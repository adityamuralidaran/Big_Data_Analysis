{
 "cells": [
  {
   "cell_type": "markdown",
   "metadata": {},
   "source": [
    "#### Aditya Subramanian Muralidaran"
   ]
  },
  {
   "cell_type": "markdown",
   "metadata": {},
   "source": [
    "#### Allen Daniel Yesa"
   ]
  },
  {
   "cell_type": "code",
   "execution_count": 1,
   "metadata": {},
   "outputs": [
    {
     "name": "stderr",
     "output_type": "stream",
     "text": [
      "Warning message:\n",
      "\"package 'rtweet' was built under R version 3.4.3\"Waiting for authentication in browser...\n",
      "Press Esc/Ctrl + C to abort\n",
      "Please point your browser to the following url: \n",
      "https://api.twitter.com/oauth/authenticate?oauth_token=mvbUTQAAAAAA5Sj8AAABYn-Btd8&permission=read\n",
      "Authentication complete.\n",
      "Searching for tweets...\n",
      "Finished collecting tweets!\n"
     ]
    }
   ],
   "source": [
    "# 5000 tweets on shooting\n",
    "library(rtweet)\n",
    "\n",
    "twitter_token <- create_token(app = \"MapReduce_DIC\",\n",
    "  consumer_key = \"CQCZxDyWrnSlaqdbKxXvAwVr1\",\n",
    "  consumer_secret = \"Hno2BJyzqunD7NAuCc7e8WdGmeH02eM3JnPffU6kh9O4zibvtP\")\n",
    "\n",
    "tweets <- search_tweets(q = \"shooting\", n = 5000, token = twitter_token, geocode = lookup_coords(\"usa\"))\n",
    "#tweets\n",
    "save_as_csv(tweets,\"mapreduce_shooting.csv\")\n",
    "#users_data(tweets)"
   ]
  },
  {
   "cell_type": "code",
   "execution_count": 1,
   "metadata": {},
   "outputs": [
    {
     "name": "stderr",
     "output_type": "stream",
     "text": [
      "Warning message:\n",
      "\"package 'rtweet' was built under R version 3.4.3\"Waiting for authentication in browser...\n",
      "Press Esc/Ctrl + C to abort\n",
      "Please point your browser to the following url: \n",
      "https://api.twitter.com/oauth/authenticate?oauth_token=y4EjbQAAAAAA4frOAAABYpkhH9E&permission=read\n",
      "Authentication complete.\n",
      "Searching for tweets...\n",
      "Finished collecting tweets!\n"
     ]
    }
   ],
   "source": [
    "# 5000 tweets on attack\n",
    "library(rtweet)\n",
    "\n",
    "twitter_token <- create_token(app = \"allendanLab1\",\n",
    "  consumer_key = \"hbWghoo0ZlqAwcTjzeyqZGSg5\",\n",
    "  consumer_secret = \"v3dN9DjmIrC6IMmGnsN21oKOieSPtxbsWJN63t1JTwqpaaaSx3\")\n",
    "\n",
    "tweets <- search_tweets(q = \"attack\", n = 5000, token = twitter_token, geocode = lookup_coords(\"usa\"), include_rts = FALSE)\n",
    "#tweets\n",
    "save_as_csv(tweets,\"mapreduce_attack.csv\")\n",
    "#users_data(tweets)"
   ]
  },
  {
   "cell_type": "code",
   "execution_count": 1,
   "metadata": {},
   "outputs": [
    {
     "name": "stderr",
     "output_type": "stream",
     "text": [
      "Warning message:\n",
      "\"package 'rtweet' was built under R version 3.4.3\"Waiting for authentication in browser...\n",
      "Press Esc/Ctrl + C to abort\n",
      "Please point your browser to the following url: \n",
      "https://api.twitter.com/oauth/authenticate?oauth_token=RgNnwwAAAAAA4rEZAAABYomSkpw&permission=read\n",
      "Authentication complete.\n",
      "Searching for tweets...\n",
      "Finished collecting tweets!\n"
     ]
    }
   ],
   "source": [
    "# 5000 tweets on guncontrol\n",
    "library(rtweet)\n",
    "\n",
    "twitter_token <- create_token(app = \"FluData_DIC_R\",\n",
    "  consumer_key = \"Q76KsQxwL6iKf9s6OmgMcg5lm\",\n",
    "  consumer_secret = \"iBR4mTWm1CBXqTlB9pIwpN1YEWNoTzYkX0RszHpRGlmvIFKHAg\")\n",
    "\n",
    "tweets <- search_tweets(q = \"gun\", n = 5000, token = twitter_token, geocode = lookup_coords(\"usa\"))\n",
    "#tweets\n",
    "save_as_csv(tweets,\"mapreduce_guns.csv\")\n",
    "#users_data(tweets)"
   ]
  },
  {
   "cell_type": "code",
   "execution_count": null,
   "metadata": {},
   "outputs": [],
   "source": []
  },
  {
   "cell_type": "code",
   "execution_count": null,
   "metadata": {},
   "outputs": [],
   "source": []
  }
 ],
 "metadata": {
  "kernelspec": {
   "display_name": "R",
   "language": "R",
   "name": "ir"
  },
  "language_info": {
   "codemirror_mode": "r",
   "file_extension": ".r",
   "mimetype": "text/x-r-source",
   "name": "R",
   "pygments_lexer": "r",
   "version": "3.4.2"
  }
 },
 "nbformat": 4,
 "nbformat_minor": 2
}
